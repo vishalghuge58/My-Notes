{
 "cells": [
  {
   "cell_type": "markdown",
   "id": "4c68de23",
   "metadata": {},
   "source": [
    "### What is the Data Analysis\n",
    "\n",
    "\n",
    "##### Data analysis is a process of inspecting, cleansing, transforming, and modelling data with the goal of discovering useful information, informing conclusions, and supporting decision-making."
   ]
  },
  {
   "cell_type": "code",
   "execution_count": null,
   "id": "ae3d8792",
   "metadata": {},
   "outputs": [],
   "source": [
    "# 1.Gathering Data\n",
    "# 2.Asking Right Questions\n",
    "# 3.Data Preprocessing\n",
    "# 4.EDA\n",
    "# 5.Conclude\n",
    "# 6.Communicate"
   ]
  },
  {
   "cell_type": "markdown",
   "id": "08a4f2ad",
   "metadata": {},
   "source": [
    "# data Analysis steps"
   ]
  },
  {
   "cell_type": "code",
   "execution_count": null,
   "id": "09a385ce",
   "metadata": {},
   "outputs": [],
   "source": [
    "1. Asking Questions\n",
    "2. Data Wrangling/Data preprocessing/data Mugging --->important step because we get the data in unstructure form so once we clean tha data it becomes easy to process, [its time cosuming step(Around 70%)]\n",
    "3.EDA(Exploratory Data Analysis):\n",
    "    here we find the pattern\n",
    "    plot graphs,Drive Co-relation....\n",
    "    so that we analysis the data in better way    \n",
    "4.Drawing The conclusions\n",
    "5.Communicating Results"
   ]
  },
  {
   "cell_type": "markdown",
   "id": "f4b3236f",
   "metadata": {},
   "source": [
    "# step 1: Asking Questions"
   ]
  },
  {
   "cell_type": "code",
   "execution_count": null,
   "id": "d9977df6",
   "metadata": {},
   "outputs": [],
   "source": [
    "There are two Scenarioes:"
   ]
  },
  {
   "cell_type": "code",
   "execution_count": null,
   "id": "0b83a866",
   "metadata": {},
   "outputs": [],
   "source": [
    "1.data and Questions are given\n",
    "2.only data --> Find what should be the right Questions. "
   ]
  },
  {
   "cell_type": "code",
   "execution_count": null,
   "id": "859a8f05",
   "metadata": {},
   "outputs": [],
   "source": [
    "suppose we have Titanic Dataset:\n",
    "    1.What features will contribute to my analysis?\n",
    "    2.what features are not important for my analysis\n",
    "    3.Which of the features have a strong coorelation?\n",
    "    4.Do i need data preprocessing\n",
    "    5.What kind of feature manupulation/Engineering required?\n",
    "    "
   ]
  },
  {
   "cell_type": "code",
   "execution_count": null,
   "id": "8024b1be",
   "metadata": {},
   "outputs": [],
   "source": [
    "How can i ask better questions?:\n",
    "    Subject Matter Expertise[Domain knowledge needed]\n",
    "    Experience [How many times you have worked that related type of data]"
   ]
  },
  {
   "cell_type": "markdown",
   "id": "f5e96612",
   "metadata": {},
   "source": [
    "# 2. Data Wrangling/Munging"
   ]
  },
  {
   "cell_type": "raw",
   "id": "b2e77585",
   "metadata": {},
   "source": [
    "It is the process of transforming and ampping data from one \"raw\" data form intoanother format with the intent of making it more appropriate and valuable for a variety of downstream purposes such as analytics."
   ]
  },
  {
   "cell_type": "raw",
   "id": "6df2e660",
   "metadata": {},
   "source": [
    "means, if the data is not good for your analysis then we clean that data, that process is called as Data wrangling/Munging"
   ]
  },
  {
   "cell_type": "code",
   "execution_count": null,
   "id": "c7c2f856",
   "metadata": {},
   "outputs": [],
   "source": [
    "Here is also Three steps:\n",
    "    1.Gathering Data--->from sources of data\n",
    "    2.Assessing Data--->taking highly overview of Gathered data\n",
    "    3.Cleaning Data"
   ]
  },
  {
   "cell_type": "markdown",
   "id": "397d6572",
   "metadata": {},
   "source": [
    "# 2a Gathering Data"
   ]
  },
  {
   "cell_type": "code",
   "execution_count": null,
   "id": "fe6e1c8d",
   "metadata": {},
   "outputs": [],
   "source": [
    "1.CSV FILES\n",
    "2.API\n",
    "3.WEB SCRAPING\n",
    "4.DATABASES"
   ]
  },
  {
   "cell_type": "markdown",
   "id": "c046aca7",
   "metadata": {},
   "source": [
    "# 2b. Assessing Data (pandas)"
   ]
  },
  {
   "cell_type": "code",
   "execution_count": null,
   "id": "72187ce9",
   "metadata": {},
   "outputs": [],
   "source": [
    "1.Findidng the number of rows/columns(Shape)\n",
    "2.Data types of various columns( df.info() )\n",
    "3.Checking for missing values (df.info())\n",
    "4.Checking for duplicates data (df.is_unique)\n",
    "5.Memory occupied by the dataset( df.info() )\n",
    "6.High level mathematical overview of the data(df.describe)"
   ]
  },
  {
   "cell_type": "markdown",
   "id": "0c06be74",
   "metadata": {},
   "source": [
    "# 2c. Cleaning Data"
   ]
  },
  {
   "cell_type": "code",
   "execution_count": null,
   "id": "a742f1df",
   "metadata": {},
   "outputs": [],
   "source": [
    "1.Missing Data--> how to fill that missing data(mean,median,mode...)\n",
    "2.remove duplicate data (drop_duplicates)\n",
    "3.Incorrect data type (astype)"
   ]
  },
  {
   "cell_type": "code",
   "execution_count": null,
   "id": "555c6698",
   "metadata": {},
   "outputs": [],
   "source": []
  },
  {
   "cell_type": "markdown",
   "id": "e08052b7",
   "metadata": {},
   "source": [
    "# Step 3. Exploratory Data Analysis"
   ]
  },
  {
   "cell_type": "markdown",
   "id": "90835537",
   "metadata": {},
   "source": [
    "1.Explore Data\n",
    "2.Augment Data"
   ]
  },
  {
   "cell_type": "markdown",
   "id": "3c3693e3",
   "metadata": {},
   "source": [
    "# 3a. Exploring Data"
   ]
  },
  {
   "cell_type": "raw",
   "id": "379f95d7",
   "metadata": {},
   "source": [
    "1.Finding Correlation and Covariance\n",
    "2.Doing univariate and multivariate analysis\n",
    "3.Plotting graphs(data visualization)"
   ]
  },
  {
   "cell_type": "markdown",
   "id": "3b453c99",
   "metadata": {},
   "source": [
    "# 3b. Augmenting Data "
   ]
  },
  {
   "cell_type": "code",
   "execution_count": null,
   "id": "1910b5d3",
   "metadata": {},
   "outputs": [],
   "source": [
    "1.Removing Outliers By using [Boxplot]\n",
    "2.Merging Dataframes--->Sometimes  our data in different dataframes then we merge them\n",
    "3.Adding new Column"
   ]
  },
  {
   "cell_type": "code",
   "execution_count": null,
   "id": "6a2186ab",
   "metadata": {},
   "outputs": [],
   "source": [
    "The operations are Collective called as Feature Engineering"
   ]
  },
  {
   "cell_type": "markdown",
   "id": "803cc53f",
   "metadata": {},
   "source": [
    "# Step 4. Drawing Conclusion"
   ]
  },
  {
   "cell_type": "code",
   "execution_count": null,
   "id": "2400e9d0",
   "metadata": {},
   "outputs": [],
   "source": [
    "Now we have fair idea of our data so that we draw conclusion or predict"
   ]
  },
  {
   "cell_type": "code",
   "execution_count": null,
   "id": "e7103dbe",
   "metadata": {},
   "outputs": [],
   "source": [
    "For Data science We use two technique:\n",
    "    1.Machine Learning(tent to be used)\n",
    "    2.Inferntial Statistics\n",
    "    \n",
    "For Data Analytics we use:\n",
    "    1.Discriptive Statistics"
   ]
  },
  {
   "cell_type": "markdown",
   "id": "23ce4d6a",
   "metadata": {},
   "source": [
    "### Some example conclusion based on Descriptive Statistics"
   ]
  },
  {
   "cell_type": "code",
   "execution_count": null,
   "id": "739c9546",
   "metadata": {},
   "outputs": [],
   "source": [
    "1.Is Rohit Sharma a better batsman in 2nd inning(IPL Datasets)?\n",
    "2.Does being a female increases your chances of Survival(Titanic Dataset)?\n",
    "3.Is Delhi the most costly place for eating out(Zomato Datasets)?"
   ]
  },
  {
   "cell_type": "markdown",
   "id": "3a50a13d",
   "metadata": {},
   "source": [
    "## Step 5. Commnicating Results / Data Storytelling"
   ]
  },
  {
   "cell_type": "code",
   "execution_count": null,
   "id": "4eeee3dd",
   "metadata": {},
   "outputs": [],
   "source": [
    "1.In person\n",
    "2.By Creating Reports\n",
    "3.PPTs/Slide decks\n",
    "4.Blog Post"
   ]
  },
  {
   "cell_type": "code",
   "execution_count": null,
   "id": "89e6227d",
   "metadata": {},
   "outputs": [],
   "source": [
    "Communication is Very important in this step"
   ]
  },
  {
   "cell_type": "markdown",
   "id": "bc3f2a11",
   "metadata": {},
   "source": [
    "### The fun part ...\n",
    "\n",
    "This is not linear process , we can jump from any steps to any step as we discussed [step1,step2,step3,step4,step5]"
   ]
  },
  {
   "cell_type": "code",
   "execution_count": null,
   "id": "e93b6df2",
   "metadata": {},
   "outputs": [],
   "source": [
    "# Home Work:\n",
    "\n",
    "Create youe Blog Profile"
   ]
  }
 ],
 "metadata": {
  "kernelspec": {
   "display_name": "Python 3 (ipykernel)",
   "language": "python",
   "name": "python3"
  },
  "language_info": {
   "codemirror_mode": {
    "name": "ipython",
    "version": 3
   },
   "file_extension": ".py",
   "mimetype": "text/x-python",
   "name": "python",
   "nbconvert_exporter": "python",
   "pygments_lexer": "ipython3",
   "version": "3.9.13"
  }
 },
 "nbformat": 4,
 "nbformat_minor": 5
}
