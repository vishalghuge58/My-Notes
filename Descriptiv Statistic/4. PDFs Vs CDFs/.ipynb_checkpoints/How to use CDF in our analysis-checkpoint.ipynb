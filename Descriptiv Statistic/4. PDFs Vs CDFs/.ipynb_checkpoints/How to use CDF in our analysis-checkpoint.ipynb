{
 "cells": [
  {
   "cell_type": "code",
   "execution_count": 1,
   "id": "240afbe9",
   "metadata": {},
   "outputs": [],
   "source": [
    "import numpy as np\n",
    "import pandas as pd\n",
    "import matplotlib.pyplot as plt\n",
    "import seaborn as sns"
   ]
  },
  {
   "cell_type": "code",
   "execution_count": 2,
   "id": "a29ec065",
   "metadata": {},
   "outputs": [
    {
     "data": {
      "text/html": [
       "<div>\n",
       "<style scoped>\n",
       "    .dataframe tbody tr th:only-of-type {\n",
       "        vertical-align: middle;\n",
       "    }\n",
       "\n",
       "    .dataframe tbody tr th {\n",
       "        vertical-align: top;\n",
       "    }\n",
       "\n",
       "    .dataframe thead th {\n",
       "        text-align: right;\n",
       "    }\n",
       "</style>\n",
       "<table border=\"1\" class=\"dataframe\">\n",
       "  <thead>\n",
       "    <tr style=\"text-align: right;\">\n",
       "      <th></th>\n",
       "      <th>Id</th>\n",
       "      <th>sl</th>\n",
       "      <th>sw</th>\n",
       "      <th>pl</th>\n",
       "      <th>pw</th>\n",
       "      <th>Species</th>\n",
       "    </tr>\n",
       "  </thead>\n",
       "  <tbody>\n",
       "    <tr>\n",
       "      <th>0</th>\n",
       "      <td>1</td>\n",
       "      <td>5.1</td>\n",
       "      <td>3.5</td>\n",
       "      <td>1.4</td>\n",
       "      <td>0.2</td>\n",
       "      <td>Iris-setosa</td>\n",
       "    </tr>\n",
       "    <tr>\n",
       "      <th>1</th>\n",
       "      <td>2</td>\n",
       "      <td>4.9</td>\n",
       "      <td>3.0</td>\n",
       "      <td>1.4</td>\n",
       "      <td>0.2</td>\n",
       "      <td>Iris-setosa</td>\n",
       "    </tr>\n",
       "    <tr>\n",
       "      <th>2</th>\n",
       "      <td>3</td>\n",
       "      <td>4.7</td>\n",
       "      <td>3.2</td>\n",
       "      <td>1.3</td>\n",
       "      <td>0.2</td>\n",
       "      <td>Iris-setosa</td>\n",
       "    </tr>\n",
       "    <tr>\n",
       "      <th>3</th>\n",
       "      <td>4</td>\n",
       "      <td>4.6</td>\n",
       "      <td>3.1</td>\n",
       "      <td>1.5</td>\n",
       "      <td>0.2</td>\n",
       "      <td>Iris-setosa</td>\n",
       "    </tr>\n",
       "    <tr>\n",
       "      <th>4</th>\n",
       "      <td>5</td>\n",
       "      <td>5.0</td>\n",
       "      <td>3.6</td>\n",
       "      <td>1.4</td>\n",
       "      <td>0.2</td>\n",
       "      <td>Iris-setosa</td>\n",
       "    </tr>\n",
       "  </tbody>\n",
       "</table>\n",
       "</div>"
      ],
      "text/plain": [
       "   Id   sl   sw   pl   pw      Species\n",
       "0   1  5.1  3.5  1.4  0.2  Iris-setosa\n",
       "1   2  4.9  3.0  1.4  0.2  Iris-setosa\n",
       "2   3  4.7  3.2  1.3  0.2  Iris-setosa\n",
       "3   4  4.6  3.1  1.5  0.2  Iris-setosa\n",
       "4   5  5.0  3.6  1.4  0.2  Iris-setosa"
      ]
     },
     "execution_count": 2,
     "metadata": {},
     "output_type": "execute_result"
    }
   ],
   "source": [
    "data=pd.read_csv('Iris.csv')\n",
    "data.rename(columns={'SepalLengthCm':'sl','SepalWidthCm':'sw','PetalLengthCm':'pl','PetalWidthCm':'pw'},inplace=True)\n",
    "data.head()"
   ]
  },
  {
   "cell_type": "code",
   "execution_count": 3,
   "id": "c3c7db7e",
   "metadata": {},
   "outputs": [
    {
     "data": {
      "text/plain": [
       "array(['Iris-setosa', 'Iris-versicolor', 'Iris-virginica'], dtype=object)"
      ]
     },
     "execution_count": 3,
     "metadata": {},
     "output_type": "execute_result"
    }
   ],
   "source": [
    "data['Species'].unique()"
   ]
  },
  {
   "cell_type": "code",
   "execution_count": 4,
   "id": "60fdda22",
   "metadata": {},
   "outputs": [],
   "source": [
    "iris_setosa=data[data['Species']=='Iris-setosa']\n",
    "iris_versicolor=data[data['Species']=='Iris-versicolor']\n",
    "iris_virginica=data[data['Species']=='Iris-virginica']"
   ]
  },
  {
   "cell_type": "code",
   "execution_count": 5,
   "id": "41e1f752",
   "metadata": {},
   "outputs": [
    {
     "name": "stdout",
     "output_type": "stream",
     "text": [
      "[ 1  1  2  7 12 14  7  4  0  2] [1.   1.09 1.18 1.27 1.36 1.45 1.54 1.63 1.72 1.81 1.9 ]\n"
     ]
    }
   ],
   "source": [
    "count_,bin_edge=np.histogram(iris_setosa['pl'],bins=10)\n",
    "print(count_,bin_edge)"
   ]
  },
  {
   "cell_type": "code",
   "execution_count": 6,
   "id": "ec40a84b",
   "metadata": {},
   "outputs": [
    {
     "name": "stdout",
     "output_type": "stream",
     "text": [
      "[0.02 0.02 0.04 0.14 0.24 0.28 0.14 0.08 0.   0.04]\n"
     ]
    }
   ],
   "source": [
    "pdf=count_/sum(count_)\n",
    "print(pdf)"
   ]
  },
  {
   "cell_type": "code",
   "execution_count": 7,
   "id": "abc2352d",
   "metadata": {},
   "outputs": [
    {
     "name": "stdout",
     "output_type": "stream",
     "text": [
      "[0.02 0.04 0.08 0.22 0.46 0.74 0.88 0.96 0.96 1.  ]\n"
     ]
    }
   ],
   "source": [
    "cdf=np.cumsum(pdf)\n",
    "print(cdf)"
   ]
  },
  {
   "cell_type": "code",
   "execution_count": 8,
   "id": "15f6afdd",
   "metadata": {},
   "outputs": [
    {
     "data": {
      "image/png": "[encoded data removed]",
      "text/plain": [
       "<Figure size 432x288 with 1 Axes>"
      ]
     },
     "metadata": {
      "needs_background": "light"
     },
     "output_type": "display_data"
    }
   ],
   "source": [
    "plt.plot(bin_edge[1:],pdf)\n",
    "plt.plot(bin_edge[1:],cdf)\n",
    "plt.show()"
   ]
  },
  {
   "cell_type": "code",
   "execution_count": 9,
   "id": "faa08ece",
   "metadata": {},
   "outputs": [],
   "source": [
    "plt.style.use('fivethirtyeight')\n"
   ]
  },
  {
   "cell_type": "code",
   "execution_count": 10,
   "id": "6d878749",
   "metadata": {},
   "outputs": [
    {
     "data": {
      "text/plain": [
       "[<matplotlib.lines.Line2D at 0x1edbcb503a0>]"
      ]
     },
     "execution_count": 10,
     "metadata": {},
     "output_type": "execute_result"
    },
    {
     "data": {
      "image/png": "[encoded data removed]",
      "text/plain": [
       "<Figure size 432x288 with 1 Axes>"
      ]
     },
     "metadata": {},
     "output_type": "display_data"
    }
   ],
   "source": [
    "count_,bin_edge=np.histogram(iris_setosa['pl'],bins=10)\n",
    "\n",
    "pdf=count_/sum(count_)\n",
    "\n",
    "plt.plot(bin_edge[1:],pdf)\n",
    "plt.plot(bin_edge[1:],cdf)\n",
    "\n",
    "count_,bin_edge=np.histogram(iris_versicolor['pl'],bins=10)\n",
    "\n",
    "pdf=count_/sum(count_)\n",
    "\n",
    "plt.plot(bin_edge[1:],pdf)\n",
    "plt.plot(bin_edge[1:],cdf)\n",
    "\n",
    "count_,bin_edge=np.histogram(iris_virginica['pl'],bins=10)\n",
    "\n",
    "pdf=count_/sum(count_)\n",
    "\n",
    "plt.plot(bin_edge[1:],pdf)\n",
    "plt.plot(bin_edge[1:],cdf)"
   ]
  },
  {
   "cell_type": "code",
   "execution_count": null,
   "id": "29eb6fc9",
   "metadata": {},
   "outputs": [],
   "source": []
  }
 ],
 "metadata": {
  "kernelspec": {
   "display_name": "Python 3 (ipykernel)",
   "language": "python",
   "name": "python3"
  },
  "language_info": {
   "codemirror_mode": {
    "name": "ipython",
    "version": 3
   },
   "file_extension": ".py",
   "mimetype": "text/x-python",
   "name": "python",
   "nbconvert_exporter": "python",
   "pygments_lexer": "ipython3",
   "version": "3.9.13"
  }
 },
 "nbformat": 4,
 "nbformat_minor": 5
}
